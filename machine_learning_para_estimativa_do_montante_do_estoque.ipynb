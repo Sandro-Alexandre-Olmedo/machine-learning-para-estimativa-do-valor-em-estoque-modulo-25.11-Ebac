{
 "cells": [
  {
   "cell_type": "markdown",
   "id": "de7dd65e",
   "metadata": {},
   "source": [
    "\n",
    "\n",
    "<div style=\"text-align: justify; width: 80%; background-color:; border: 0px solid green; line-height: 1.8; font-size: 18px;\">\n",
    "\n",
    "# **Introdução**\n",
    "\n",
    "<div style=\"display: flex; justify-content: left; align-items: center;\">\n",
    "\n",
    "![Minha Foto](marketing2.jpg)\n",
    "\n",
    "</div>\n",
    "\n",
    "Grandes empresas têm o seu sucesso alcançado através do marketing, certo? Sim, isso já é bem estabelecido nos atuais mercados em nível global, na verdade as vendas e os estoques estão intimamente relacionadas com o marketing e este último sempre requer atualizações nas estratégias e no planejamento das campanhas de marketing.\n",
    "\n",
    "Um dos grandes problemas dentro de muitas empresas é com a gestão de estoques, sendo assim, os gestores precisam ser muito eficientes em descobrir exatamente as formas mais adequadas de utilizar os recursos disponíveis para alocar os esforços em marketing e vendas, a fim de que não faltem produtos para atender as demandas dos clientes após as ações de marketing ou que muitos produtos fiquem estagnados nos estoques da empresa após um erro nos valores investidos em campanhas de marketing.\n",
    "\n",
    "Os gestores precisam saber exatamente o montante físico e em valores que constam no inventário, uso de softwares adequados ajudam muito esse saber e qual deve ser o montante a ser adquirido para outros períodos de acordo com um histórico ou linha de tendência.\n",
    "\n",
    "O departamento de marketing cria expectativas e promessas a respeito dos produtos através de suas campanhas, no entanto, os profissionais de marketing não têm como estimar exatamente se as mensagens que transmitem ao público são suficientes ou não e para que isso funcione de fato é necessária uma estreita comunicação a com a gestão de vendas e de estoque e garantir que as campanhas de marketing tenham sucesso.\n",
    "\n",
    "Basicamente uma das formas de estimar corretamente a alocação dos recursos é traçar uma linha de tendência entre os investimentos anteriores em marketing com os montantes em estoque para cada investimento anterior e conhecer melhor a relação entre essas duas variáveis, isso pode ser feito com o auxílio da tecnologia, mais precisamente com o uso do Machine Learning e Regressão Linear e por fim estimar o montante a ser alocado aos estoques após a definição de um determinado valor a ser investido em novas campanhas.\n",
    "</div>"
   ]
  },
  {
   "cell_type": "markdown",
   "id": "20722b3c",
   "metadata": {},
   "source": [
    "<hr>"
   ]
  },
  {
   "cell_type": "markdown",
   "id": "571041a2",
   "metadata": {},
   "source": [
    "# **Pergunta?**\n",
    "\n",
    "> Qual deverá ser o montante aproximado (em valores) do estoque da empresa para atender as conversões dos clientes para um total de **75.000** de investimento?"
   ]
  },
  {
   "cell_type": "markdown",
   "id": "2c6ec81b",
   "metadata": {},
   "source": [
    "<hr>"
   ]
  },
  {
   "cell_type": "markdown",
   "id": "d391747f",
   "metadata": {},
   "source": [
    "> **Nota**\n",
    "> \n",
    "> Para este projeto será usado uma base de dados fictícia em formato **`.csv`** de nome **`investimento_montante_estoque.csv`** que contém apenas 7 linhas, não é suficiente, mas que possibilita ter uma noção de como o **`Machine Learning`** e a **`Regressão Linear`** podem ajudar a responder muitas perguntas no mundo dos negócios. O arquivo esta no [link](https://raw.githubusercontent.com/Sandro-Alexandre-Olmedo/machine-learning-para-estimativa-do-valor-em-estoque-modulo-25.11-Ebac/refs/heads/main/investimento_montante_estoque.csv). \n",
    ">\n",
    "> A mesma regra pode ser utilizada para responder a várias perguntas de outras áreas de negócios ou segmentos."
   ]
  },
  {
   "cell_type": "markdown",
   "id": "d38823fb",
   "metadata": {},
   "source": [
    "<hr>"
   ]
  },
  {
   "cell_type": "markdown",
   "id": "b2c474d5",
   "metadata": {},
   "source": [
    "# **Execução**"
   ]
  },
  {
   "cell_type": "markdown",
   "id": "18322d43",
   "metadata": {},
   "source": [
    "- **Importação das bibliotecas**"
   ]
  },
  {
   "cell_type": "code",
   "execution_count": 57,
   "id": "7a4c888d",
   "metadata": {},
   "outputs": [],
   "source": [
    "import pandas as pd\n",
    "import numpy as np\n",
    "import seaborn as sns\n",
    "import matplotlib.pyplot as plt"
   ]
  },
  {
   "cell_type": "markdown",
   "id": "0413aedc",
   "metadata": {},
   "source": [
    "- **Link dos dados**"
   ]
  },
  {
   "cell_type": "code",
   "execution_count": 72,
   "id": "9b76c84d",
   "metadata": {},
   "outputs": [],
   "source": [
    "url = 'https://raw.githubusercontent.com/Sandro-Alexandre-Olmedo/machine-learning-para-estimativa-do-valor-em-estoque-modulo-25.11-Ebac/refs/heads/main/investimento_montante_estoque.csv'"
   ]
  },
  {
   "cell_type": "markdown",
   "id": "feed1723",
   "metadata": {},
   "source": [
    "- **Leitura dos dados**"
   ]
  },
  {
   "cell_type": "code",
   "execution_count": null,
   "id": "c0bc1c91",
   "metadata": {},
   "outputs": [],
   "source": [
    "marketing = pd.read_csv(url, sep=',')"
   ]
  },
  {
   "cell_type": "markdown",
   "id": "d2688e76",
   "metadata": {},
   "source": [
    "- **Exploração dos dados**"
   ]
  },
  {
   "cell_type": "code",
   "execution_count": 59,
   "id": "167b652b",
   "metadata": {},
   "outputs": [
    {
     "data": {
      "text/html": [
       "<div>\n",
       "<style scoped>\n",
       "    .dataframe tbody tr th:only-of-type {\n",
       "        vertical-align: middle;\n",
       "    }\n",
       "\n",
       "    .dataframe tbody tr th {\n",
       "        vertical-align: top;\n",
       "    }\n",
       "\n",
       "    .dataframe thead th {\n",
       "        text-align: right;\n",
       "    }\n",
       "</style>\n",
       "<table border=\"1\" class=\"dataframe\">\n",
       "  <thead>\n",
       "    <tr style=\"text-align: right;\">\n",
       "      <th></th>\n",
       "      <th>investimento_marketing</th>\n",
       "      <th>m_estoque</th>\n",
       "    </tr>\n",
       "  </thead>\n",
       "  <tbody>\n",
       "    <tr>\n",
       "      <th>0</th>\n",
       "      <td>20.0</td>\n",
       "      <td>118.0</td>\n",
       "    </tr>\n",
       "    <tr>\n",
       "      <th>1</th>\n",
       "      <td>25.0</td>\n",
       "      <td>142.0</td>\n",
       "    </tr>\n",
       "    <tr>\n",
       "      <th>2</th>\n",
       "      <td>40.0</td>\n",
       "      <td>225.0</td>\n",
       "    </tr>\n",
       "    <tr>\n",
       "      <th>3</th>\n",
       "      <td>52.0</td>\n",
       "      <td>260.0</td>\n",
       "    </tr>\n",
       "    <tr>\n",
       "      <th>4</th>\n",
       "      <td>67.0</td>\n",
       "      <td>295.0</td>\n",
       "    </tr>\n",
       "    <tr>\n",
       "      <th>5</th>\n",
       "      <td>72.0</td>\n",
       "      <td>335.0</td>\n",
       "    </tr>\n",
       "    <tr>\n",
       "      <th>6</th>\n",
       "      <td>81.0</td>\n",
       "      <td>364.0</td>\n",
       "    </tr>\n",
       "  </tbody>\n",
       "</table>\n",
       "</div>"
      ],
      "text/plain": [
       "   investimento_marketing  m_estoque\n",
       "0                    20.0      118.0\n",
       "1                    25.0      142.0\n",
       "2                    40.0      225.0\n",
       "3                    52.0      260.0\n",
       "4                    67.0      295.0\n",
       "5                    72.0      335.0\n",
       "6                    81.0      364.0"
      ]
     },
     "execution_count": 59,
     "metadata": {},
     "output_type": "execute_result"
    }
   ],
   "source": [
    "marketing.head(10)"
   ]
  },
  {
   "cell_type": "code",
   "execution_count": 60,
   "id": "bd170a2f",
   "metadata": {},
   "outputs": [
    {
     "name": "stdout",
     "output_type": "stream",
     "text": [
      "<class 'pandas.core.frame.DataFrame'>\n",
      "RangeIndex: 7 entries, 0 to 6\n",
      "Data columns (total 2 columns):\n",
      " #   Column                  Non-Null Count  Dtype  \n",
      "---  ------                  --------------  -----  \n",
      " 0   investimento_marketing  7 non-null      float64\n",
      " 1   m_estoque               7 non-null      float64\n",
      "dtypes: float64(2)\n",
      "memory usage: 244.0 bytes\n"
     ]
    }
   ],
   "source": [
    "marketing.info()"
   ]
  },
  {
   "cell_type": "code",
   "execution_count": 71,
   "id": "9cbbf60a",
   "metadata": {},
   "outputs": [
    {
     "data": {
      "text/plain": [
       "(7, 2)"
      ]
     },
     "execution_count": 71,
     "metadata": {},
     "output_type": "execute_result"
    }
   ],
   "source": [
    "marketing.shape"
   ]
  },
  {
   "cell_type": "code",
   "execution_count": 61,
   "id": "bed5b0f7",
   "metadata": {},
   "outputs": [
    {
     "data": {
      "text/html": [
       "<div>\n",
       "<style scoped>\n",
       "    .dataframe tbody tr th:only-of-type {\n",
       "        vertical-align: middle;\n",
       "    }\n",
       "\n",
       "    .dataframe tbody tr th {\n",
       "        vertical-align: top;\n",
       "    }\n",
       "\n",
       "    .dataframe thead th {\n",
       "        text-align: right;\n",
       "    }\n",
       "</style>\n",
       "<table border=\"1\" class=\"dataframe\">\n",
       "  <thead>\n",
       "    <tr style=\"text-align: right;\">\n",
       "      <th></th>\n",
       "      <th>count</th>\n",
       "      <th>mean</th>\n",
       "      <th>std</th>\n",
       "      <th>min</th>\n",
       "      <th>25%</th>\n",
       "      <th>50%</th>\n",
       "      <th>75%</th>\n",
       "      <th>max</th>\n",
       "    </tr>\n",
       "  </thead>\n",
       "  <tbody>\n",
       "    <tr>\n",
       "      <th>investimento_marketing</th>\n",
       "      <td>7.0</td>\n",
       "      <td>51.000000</td>\n",
       "      <td>23.650229</td>\n",
       "      <td>20.0</td>\n",
       "      <td>32.5</td>\n",
       "      <td>52.0</td>\n",
       "      <td>69.5</td>\n",
       "      <td>81.0</td>\n",
       "    </tr>\n",
       "    <tr>\n",
       "      <th>m_estoque</th>\n",
       "      <td>7.0</td>\n",
       "      <td>248.428571</td>\n",
       "      <td>93.132266</td>\n",
       "      <td>118.0</td>\n",
       "      <td>183.5</td>\n",
       "      <td>260.0</td>\n",
       "      <td>315.0</td>\n",
       "      <td>364.0</td>\n",
       "    </tr>\n",
       "  </tbody>\n",
       "</table>\n",
       "</div>"
      ],
      "text/plain": [
       "                        count        mean        std    min    25%    50%  \\\n",
       "investimento_marketing    7.0   51.000000  23.650229   20.0   32.5   52.0   \n",
       "m_estoque                 7.0  248.428571  93.132266  118.0  183.5  260.0   \n",
       "\n",
       "                          75%    max  \n",
       "investimento_marketing   69.5   81.0  \n",
       "m_estoque               315.0  364.0  "
      ]
     },
     "execution_count": 61,
     "metadata": {},
     "output_type": "execute_result"
    }
   ],
   "source": [
    "marketing.describe().T"
   ]
  },
  {
   "cell_type": "markdown",
   "id": "ad168adc",
   "metadata": {},
   "source": [
    "<hr>"
   ]
  },
  {
   "cell_type": "markdown",
   "id": "239bd23e",
   "metadata": {},
   "source": [
    "- **Apresentação gráfica da `relação linear` entre as váriaveis**"
   ]
  },
  {
   "cell_type": "code",
   "execution_count": 62,
   "id": "bd1a5cb6",
   "metadata": {},
   "outputs": [
    {
     "data": {
      "image/png": "[encoded data removed]",
      "text/plain": [
       "<Figure size 800x400 with 1 Axes>"
      ]
     },
     "metadata": {},
     "output_type": "display_data"
    }
   ],
   "source": [
    "with sns.axes_style('darkgrid'):\n",
    "  \n",
    "  grafico = sns.scatterplot(data=marketing, x='investimento_marketing', y='m_estoque', color='blue')\n",
    "\n",
    "  grafico.set(title='Investimento em Marketing', xlabel='Valor do Investimento', ylabel='Montante em estoque')\n",
    "\n",
    "  grafico.figure.set_size_inches(8, 4)"
   ]
  },
  {
   "cell_type": "markdown",
   "id": "2e6851af",
   "metadata": {},
   "source": [
    "> **Nota**\n",
    ">\n",
    "> Evidentemente existe um relacionamento linear entre as váriaveis `investimento_marketing` e `m_estoque`, ou seja, conforme o investimento em marketing for maior, maior deverá ser o estoque!"
   ]
  },
  {
   "cell_type": "markdown",
   "id": "4535bf36",
   "metadata": {},
   "source": [
    "<hr>"
   ]
  },
  {
   "cell_type": "markdown",
   "id": "051661e6",
   "metadata": {},
   "source": [
    "# **Como responder a pergunta com Machine Learning e Regressão Linear**\n",
    "\n",
    "- Aprendizado de Máquina com o módulo **scikit-learn** para o modelo de `Regressão Linear`"
   ]
  },
  {
   "cell_type": "code",
   "execution_count": 63,
   "id": "7f333d53",
   "metadata": {},
   "outputs": [],
   "source": [
    "from sklearn import linear_model"
   ]
  },
  {
   "cell_type": "code",
   "execution_count": 64,
   "id": "cff5763a",
   "metadata": {},
   "outputs": [],
   "source": [
    "reg_linear = linear_model.LinearRegression()"
   ]
  },
  {
   "cell_type": "markdown",
   "id": "b7ef47e4",
   "metadata": {},
   "source": [
    "- **Método .fit**"
   ]
  },
  {
   "cell_type": "markdown",
   "id": "f24edfb7",
   "metadata": {},
   "source": [
    "> **Nota**\n",
    ">\n",
    "> O método `.fit` realiza o treinamento com os dados fornecidos (x e y), e encontra os coeficientes que minimizam o erro quadrático entre os rótulos previstos e reais."
   ]
  },
  {
   "cell_type": "code",
   "execution_count": 65,
   "id": "145696ac",
   "metadata": {},
   "outputs": [
    {
     "data": {
      "text/html": [
       "<style>#sk-container-id-4 {\n",
       "  /* Definition of color scheme common for light and dark mode */\n",
       "  --sklearn-color-text: #000;\n",
       "  --sklearn-color-text-muted: #666;\n",
       "  --sklearn-color-line: gray;\n",
       "  /* Definition of color scheme for unfitted estimators */\n",
       "  --sklearn-color-unfitted-level-0: #fff5e6;\n",
       "  --sklearn-color-unfitted-level-1: #f6e4d2;\n",
       "  --sklearn-color-unfitted-level-2: #ffe0b3;\n",
       "  --sklearn-color-unfitted-level-3: chocolate;\n",
       "  /* Definition of color scheme for fitted estimators */\n",
       "  --sklearn-color-fitted-level-0: #f0f8ff;\n",
       "  --sklearn-color-fitted-level-1: #d4ebff;\n",
       "  --sklearn-color-fitted-level-2: #b3dbfd;\n",
       "  --sklearn-color-fitted-level-3: cornflowerblue;\n",
       "\n",
       "  /* Specific color for light theme */\n",
       "  --sklearn-color-text-on-default-background: var(--sg-text-color, var(--theme-code-foreground, var(--jp-content-font-color1, black)));\n",
       "  --sklearn-color-background: var(--sg-background-color, var(--theme-background, var(--jp-layout-color0, white)));\n",
       "  --sklearn-color-border-box: var(--sg-text-color, var(--theme-code-foreground, var(--jp-content-font-color1, black)));\n",
       "  --sklearn-color-icon: #696969;\n",
       "\n",
       "  @media (prefers-color-scheme: dark) {\n",
       "    /* Redefinition of color scheme for dark theme */\n",
       "    --sklearn-color-text-on-default-background: var(--sg-text-color, var(--theme-code-foreground, var(--jp-content-font-color1, white)));\n",
       "    --sklearn-color-background: var(--sg-background-color, var(--theme-background, var(--jp-layout-color0, #111)));\n",
       "    --sklearn-color-border-box: var(--sg-text-color, var(--theme-code-foreground, var(--jp-content-font-color1, white)));\n",
       "    --sklearn-color-icon: #878787;\n",
       "  }\n",
       "}\n",
       "\n",
       "#sk-container-id-4 {\n",
       "  color: var(--sklearn-color-text);\n",
       "}\n",
       "\n",
       "#sk-container-id-4 pre {\n",
       "  padding: 0;\n",
       "}\n",
       "\n",
       "#sk-container-id-4 input.sk-hidden--visually {\n",
       "  border: 0;\n",
       "  clip: rect(1px 1px 1px 1px);\n",
       "  clip: rect(1px, 1px, 1px, 1px);\n",
       "  height: 1px;\n",
       "  margin: -1px;\n",
       "  overflow: hidden;\n",
       "  padding: 0;\n",
       "  position: absolute;\n",
       "  width: 1px;\n",
       "}\n",
       "\n",
       "#sk-container-id-4 div.sk-dashed-wrapped {\n",
       "  border: 1px dashed var(--sklearn-color-line);\n",
       "  margin: 0 0.4em 0.5em 0.4em;\n",
       "  box-sizing: border-box;\n",
       "  padding-bottom: 0.4em;\n",
       "  background-color: var(--sklearn-color-background);\n",
       "}\n",
       "\n",
       "#sk-container-id-4 div.sk-container {\n",
       "  /* jupyter's `normalize.less` sets `[hidden] { display: none; }`\n",
       "     but bootstrap.min.css set `[hidden] { display: none !important; }`\n",
       "     so we also need the `!important` here to be able to override the\n",
       "     default hidden behavior on the sphinx rendered scikit-learn.org.\n",
       "     See: https://github.com/scikit-learn/scikit-learn/issues/21755 */\n",
       "  display: inline-block !important;\n",
       "  position: relative;\n",
       "}\n",
       "\n",
       "#sk-container-id-4 div.sk-text-repr-fallback {\n",
       "  display: none;\n",
       "}\n",
       "\n",
       "div.sk-parallel-item,\n",
       "div.sk-serial,\n",
       "div.sk-item {\n",
       "  /* draw centered vertical line to link estimators */\n",
       "  background-image: linear-gradient(var(--sklearn-color-text-on-default-background), var(--sklearn-color-text-on-default-background));\n",
       "  background-size: 2px 100%;\n",
       "  background-repeat: no-repeat;\n",
       "  background-position: center center;\n",
       "}\n",
       "\n",
       "/* Parallel-specific style estimator block */\n",
       "\n",
       "#sk-container-id-4 div.sk-parallel-item::after {\n",
       "  content: \"\";\n",
       "  width: 100%;\n",
       "  border-bottom: 2px solid var(--sklearn-color-text-on-default-background);\n",
       "  flex-grow: 1;\n",
       "}\n",
       "\n",
       "#sk-container-id-4 div.sk-parallel {\n",
       "  display: flex;\n",
       "  align-items: stretch;\n",
       "  justify-content: center;\n",
       "  background-color: var(--sklearn-color-background);\n",
       "  position: relative;\n",
       "}\n",
       "\n",
       "#sk-container-id-4 div.sk-parallel-item {\n",
       "  display: flex;\n",
       "  flex-direction: column;\n",
       "}\n",
       "\n",
       "#sk-container-id-4 div.sk-parallel-item:first-child::after {\n",
       "  align-self: flex-end;\n",
       "  width: 50%;\n",
       "}\n",
       "\n",
       "#sk-container-id-4 div.sk-parallel-item:last-child::after {\n",
       "  align-self: flex-start;\n",
       "  width: 50%;\n",
       "}\n",
       "\n",
       "#sk-container-id-4 div.sk-parallel-item:only-child::after {\n",
       "  width: 0;\n",
       "}\n",
       "\n",
       "/* Serial-specific style estimator block */\n",
       "\n",
       "#sk-container-id-4 div.sk-serial {\n",
       "  display: flex;\n",
       "  flex-direction: column;\n",
       "  align-items: center;\n",
       "  background-color: var(--sklearn-color-background);\n",
       "  padding-right: 1em;\n",
       "  padding-left: 1em;\n",
       "}\n",
       "\n",
       "\n",
       "/* Toggleable style: style used for estimator/Pipeline/ColumnTransformer box that is\n",
       "clickable and can be expanded/collapsed.\n",
       "- Pipeline and ColumnTransformer use this feature and define the default style\n",
       "- Estimators will overwrite some part of the style using the `sk-estimator` class\n",
       "*/\n",
       "\n",
       "/* Pipeline and ColumnTransformer style (default) */\n",
       "\n",
       "#sk-container-id-4 div.sk-toggleable {\n",
       "  /* Default theme specific background. It is overwritten whether we have a\n",
       "  specific estimator or a Pipeline/ColumnTransformer */\n",
       "  background-color: var(--sklearn-color-background);\n",
       "}\n",
       "\n",
       "/* Toggleable label */\n",
       "#sk-container-id-4 label.sk-toggleable__label {\n",
       "  cursor: pointer;\n",
       "  display: flex;\n",
       "  width: 100%;\n",
       "  margin-bottom: 0;\n",
       "  padding: 0.5em;\n",
       "  box-sizing: border-box;\n",
       "  text-align: center;\n",
       "  align-items: start;\n",
       "  justify-content: space-between;\n",
       "  gap: 0.5em;\n",
       "}\n",
       "\n",
       "#sk-container-id-4 label.sk-toggleable__label .caption {\n",
       "  font-size: 0.6rem;\n",
       "  font-weight: lighter;\n",
       "  color: var(--sklearn-color-text-muted);\n",
       "}\n",
       "\n",
       "#sk-container-id-4 label.sk-toggleable__label-arrow:before {\n",
       "  /* Arrow on the left of the label */\n",
       "  content: \"▸\";\n",
       "  float: left;\n",
       "  margin-right: 0.25em;\n",
       "  color: var(--sklearn-color-icon);\n",
       "}\n",
       "\n",
       "#sk-container-id-4 label.sk-toggleable__label-arrow:hover:before {\n",
       "  color: var(--sklearn-color-text);\n",
       "}\n",
       "\n",
       "/* Toggleable content - dropdown */\n",
       "\n",
       "#sk-container-id-4 div.sk-toggleable__content {\n",
       "  max-height: 0;\n",
       "  max-width: 0;\n",
       "  overflow: hidden;\n",
       "  text-align: left;\n",
       "  /* unfitted */\n",
       "  background-color: var(--sklearn-color-unfitted-level-0);\n",
       "}\n",
       "\n",
       "#sk-container-id-4 div.sk-toggleable__content.fitted {\n",
       "  /* fitted */\n",
       "  background-color: var(--sklearn-color-fitted-level-0);\n",
       "}\n",
       "\n",
       "#sk-container-id-4 div.sk-toggleable__content pre {\n",
       "  margin: 0.2em;\n",
       "  border-radius: 0.25em;\n",
       "  color: var(--sklearn-color-text);\n",
       "  /* unfitted */\n",
       "  background-color: var(--sklearn-color-unfitted-level-0);\n",
       "}\n",
       "\n",
       "#sk-container-id-4 div.sk-toggleable__content.fitted pre {\n",
       "  /* unfitted */\n",
       "  background-color: var(--sklearn-color-fitted-level-0);\n",
       "}\n",
       "\n",
       "#sk-container-id-4 input.sk-toggleable__control:checked~div.sk-toggleable__content {\n",
       "  /* Expand drop-down */\n",
       "  max-height: 200px;\n",
       "  max-width: 100%;\n",
       "  overflow: auto;\n",
       "}\n",
       "\n",
       "#sk-container-id-4 input.sk-toggleable__control:checked~label.sk-toggleable__label-arrow:before {\n",
       "  content: \"▾\";\n",
       "}\n",
       "\n",
       "/* Pipeline/ColumnTransformer-specific style */\n",
       "\n",
       "#sk-container-id-4 div.sk-label input.sk-toggleable__control:checked~label.sk-toggleable__label {\n",
       "  color: var(--sklearn-color-text);\n",
       "  background-color: var(--sklearn-color-unfitted-level-2);\n",
       "}\n",
       "\n",
       "#sk-container-id-4 div.sk-label.fitted input.sk-toggleable__control:checked~label.sk-toggleable__label {\n",
       "  background-color: var(--sklearn-color-fitted-level-2);\n",
       "}\n",
       "\n",
       "/* Estimator-specific style */\n",
       "\n",
       "/* Colorize estimator box */\n",
       "#sk-container-id-4 div.sk-estimator input.sk-toggleable__control:checked~label.sk-toggleable__label {\n",
       "  /* unfitted */\n",
       "  background-color: var(--sklearn-color-unfitted-level-2);\n",
       "}\n",
       "\n",
       "#sk-container-id-4 div.sk-estimator.fitted input.sk-toggleable__control:checked~label.sk-toggleable__label {\n",
       "  /* fitted */\n",
       "  background-color: var(--sklearn-color-fitted-level-2);\n",
       "}\n",
       "\n",
       "#sk-container-id-4 div.sk-label label.sk-toggleable__label,\n",
       "#sk-container-id-4 div.sk-label label {\n",
       "  /* The background is the default theme color */\n",
       "  color: var(--sklearn-color-text-on-default-background);\n",
       "}\n",
       "\n",
       "/* On hover, darken the color of the background */\n",
       "#sk-container-id-4 div.sk-label:hover label.sk-toggleable__label {\n",
       "  color: var(--sklearn-color-text);\n",
       "  background-color: var(--sklearn-color-unfitted-level-2);\n",
       "}\n",
       "\n",
       "/* Label box, darken color on hover, fitted */\n",
       "#sk-container-id-4 div.sk-label.fitted:hover label.sk-toggleable__label.fitted {\n",
       "  color: var(--sklearn-color-text);\n",
       "  background-color: var(--sklearn-color-fitted-level-2);\n",
       "}\n",
       "\n",
       "/* Estimator label */\n",
       "\n",
       "#sk-container-id-4 div.sk-label label {\n",
       "  font-family: monospace;\n",
       "  font-weight: bold;\n",
       "  display: inline-block;\n",
       "  line-height: 1.2em;\n",
       "}\n",
       "\n",
       "#sk-container-id-4 div.sk-label-container {\n",
       "  text-align: center;\n",
       "}\n",
       "\n",
       "/* Estimator-specific */\n",
       "#sk-container-id-4 div.sk-estimator {\n",
       "  font-family: monospace;\n",
       "  border: 1px dotted var(--sklearn-color-border-box);\n",
       "  border-radius: 0.25em;\n",
       "  box-sizing: border-box;\n",
       "  margin-bottom: 0.5em;\n",
       "  /* unfitted */\n",
       "  background-color: var(--sklearn-color-unfitted-level-0);\n",
       "}\n",
       "\n",
       "#sk-container-id-4 div.sk-estimator.fitted {\n",
       "  /* fitted */\n",
       "  background-color: var(--sklearn-color-fitted-level-0);\n",
       "}\n",
       "\n",
       "/* on hover */\n",
       "#sk-container-id-4 div.sk-estimator:hover {\n",
       "  /* unfitted */\n",
       "  background-color: var(--sklearn-color-unfitted-level-2);\n",
       "}\n",
       "\n",
       "#sk-container-id-4 div.sk-estimator.fitted:hover {\n",
       "  /* fitted */\n",
       "  background-color: var(--sklearn-color-fitted-level-2);\n",
       "}\n",
       "\n",
       "/* Specification for estimator info (e.g. \"i\" and \"?\") */\n",
       "\n",
       "/* Common style for \"i\" and \"?\" */\n",
       "\n",
       ".sk-estimator-doc-link,\n",
       "a:link.sk-estimator-doc-link,\n",
       "a:visited.sk-estimator-doc-link {\n",
       "  float: right;\n",
       "  font-size: smaller;\n",
       "  line-height: 1em;\n",
       "  font-family: monospace;\n",
       "  background-color: var(--sklearn-color-background);\n",
       "  border-radius: 1em;\n",
       "  height: 1em;\n",
       "  width: 1em;\n",
       "  text-decoration: none !important;\n",
       "  margin-left: 0.5em;\n",
       "  text-align: center;\n",
       "  /* unfitted */\n",
       "  border: var(--sklearn-color-unfitted-level-1) 1pt solid;\n",
       "  color: var(--sklearn-color-unfitted-level-1);\n",
       "}\n",
       "\n",
       ".sk-estimator-doc-link.fitted,\n",
       "a:link.sk-estimator-doc-link.fitted,\n",
       "a:visited.sk-estimator-doc-link.fitted {\n",
       "  /* fitted */\n",
       "  border: var(--sklearn-color-fitted-level-1) 1pt solid;\n",
       "  color: var(--sklearn-color-fitted-level-1);\n",
       "}\n",
       "\n",
       "/* On hover */\n",
       "div.sk-estimator:hover .sk-estimator-doc-link:hover,\n",
       ".sk-estimator-doc-link:hover,\n",
       "div.sk-label-container:hover .sk-estimator-doc-link:hover,\n",
       ".sk-estimator-doc-link:hover {\n",
       "  /* unfitted */\n",
       "  background-color: var(--sklearn-color-unfitted-level-3);\n",
       "  color: var(--sklearn-color-background);\n",
       "  text-decoration: none;\n",
       "}\n",
       "\n",
       "div.sk-estimator.fitted:hover .sk-estimator-doc-link.fitted:hover,\n",
       ".sk-estimator-doc-link.fitted:hover,\n",
       "div.sk-label-container:hover .sk-estimator-doc-link.fitted:hover,\n",
       ".sk-estimator-doc-link.fitted:hover {\n",
       "  /* fitted */\n",
       "  background-color: var(--sklearn-color-fitted-level-3);\n",
       "  color: var(--sklearn-color-background);\n",
       "  text-decoration: none;\n",
       "}\n",
       "\n",
       "/* Span, style for the box shown on hovering the info icon */\n",
       ".sk-estimator-doc-link span {\n",
       "  display: none;\n",
       "  z-index: 9999;\n",
       "  position: relative;\n",
       "  font-weight: normal;\n",
       "  right: .2ex;\n",
       "  padding: .5ex;\n",
       "  margin: .5ex;\n",
       "  width: min-content;\n",
       "  min-width: 20ex;\n",
       "  max-width: 50ex;\n",
       "  color: var(--sklearn-color-text);\n",
       "  box-shadow: 2pt 2pt 4pt #999;\n",
       "  /* unfitted */\n",
       "  background: var(--sklearn-color-unfitted-level-0);\n",
       "  border: .5pt solid var(--sklearn-color-unfitted-level-3);\n",
       "}\n",
       "\n",
       ".sk-estimator-doc-link.fitted span {\n",
       "  /* fitted */\n",
       "  background: var(--sklearn-color-fitted-level-0);\n",
       "  border: var(--sklearn-color-fitted-level-3);\n",
       "}\n",
       "\n",
       ".sk-estimator-doc-link:hover span {\n",
       "  display: block;\n",
       "}\n",
       "\n",
       "/* \"?\"-specific style due to the `<a>` HTML tag */\n",
       "\n",
       "#sk-container-id-4 a.estimator_doc_link {\n",
       "  float: right;\n",
       "  font-size: 1rem;\n",
       "  line-height: 1em;\n",
       "  font-family: monospace;\n",
       "  background-color: var(--sklearn-color-background);\n",
       "  border-radius: 1rem;\n",
       "  height: 1rem;\n",
       "  width: 1rem;\n",
       "  text-decoration: none;\n",
       "  /* unfitted */\n",
       "  color: var(--sklearn-color-unfitted-level-1);\n",
       "  border: var(--sklearn-color-unfitted-level-1) 1pt solid;\n",
       "}\n",
       "\n",
       "#sk-container-id-4 a.estimator_doc_link.fitted {\n",
       "  /* fitted */\n",
       "  border: var(--sklearn-color-fitted-level-1) 1pt solid;\n",
       "  color: var(--sklearn-color-fitted-level-1);\n",
       "}\n",
       "\n",
       "/* On hover */\n",
       "#sk-container-id-4 a.estimator_doc_link:hover {\n",
       "  /* unfitted */\n",
       "  background-color: var(--sklearn-color-unfitted-level-3);\n",
       "  color: var(--sklearn-color-background);\n",
       "  text-decoration: none;\n",
       "}\n",
       "\n",
       "#sk-container-id-4 a.estimator_doc_link.fitted:hover {\n",
       "  /* fitted */\n",
       "  background-color: var(--sklearn-color-fitted-level-3);\n",
       "}\n",
       "</style><div id=\"sk-container-id-4\" class=\"sk-top-container\"><div class=\"sk-text-repr-fallback\"><pre>LinearRegression()</pre><b>In a Jupyter environment, please rerun this cell to show the HTML representation or trust the notebook. <br />On GitHub, the HTML representation is unable to render, please try loading this page with nbviewer.org.</b></div><div class=\"sk-container\" hidden><div class=\"sk-item\"><div class=\"sk-estimator fitted sk-toggleable\"><input class=\"sk-toggleable__control sk-hidden--visually\" id=\"sk-estimator-id-4\" type=\"checkbox\" checked><label for=\"sk-estimator-id-4\" class=\"sk-toggleable__label fitted sk-toggleable__label-arrow\"><div><div>LinearRegression</div></div><div><a class=\"sk-estimator-doc-link fitted\" rel=\"noreferrer\" target=\"_blank\" href=\"https://scikit-learn.org/1.6/modules/generated/sklearn.linear_model.LinearRegression.html\">?<span>Documentation for LinearRegression</span></a><span class=\"sk-estimator-doc-link fitted\">i<span>Fitted</span></span></div></label><div class=\"sk-toggleable__content fitted\"><pre>LinearRegression()</pre></div> </div></div></div></div>"
      ],
      "text/plain": [
       "LinearRegression()"
      ]
     },
     "execution_count": 65,
     "metadata": {},
     "output_type": "execute_result"
    }
   ],
   "source": [
    "reg_linear.fit(marketing['investimento_marketing'].values.reshape(-1, 1), marketing['m_estoque'])"
   ]
  },
  {
   "cell_type": "markdown",
   "id": "46c68434",
   "metadata": {},
   "source": [
    "> **Nota**\n",
    ">\n",
    "> Aqui é necessário fazer o uso do método `.reshape(-1, 1)` do `numpy`, pois a coluna **investimento_marketing** é uma série de apenas uma dimensão(1d) e o método `.fit` requer duas dimensões, também é necessário informar o método `.values` antes do método `.reshape(-1, 1)` para que o array com os valores da coluna seja retornado e assim fazer o reshape(mudar a forma do array).\n",
    ">\n",
    "> Mais informações acesse a documentação do `Scikit-learn` no [link](https://scikit-learn.org/stable/glossary.html)."
   ]
  },
  {
   "cell_type": "markdown",
   "id": "98d40227",
   "metadata": {},
   "source": [
    "- **Coeficiente angular da reta**"
   ]
  },
  {
   "cell_type": "code",
   "execution_count": 66,
   "id": "e373bdae",
   "metadata": {},
   "outputs": [
    {
     "data": {
      "text/plain": [
       "array([3.90643623])"
      ]
     },
     "execution_count": 66,
     "metadata": {},
     "output_type": "execute_result"
    }
   ],
   "source": [
    "reg_linear.coef_ "
   ]
  },
  {
   "cell_type": "markdown",
   "id": "7300045d",
   "metadata": {},
   "source": [
    "> **Nota**\n",
    ">\n",
    "> O coeficiente angular de uma reta é uma medida que indica a inclinação da reta em relação ao eixo `x` do plano cartesiano."
   ]
  },
  {
   "cell_type": "markdown",
   "id": "797abfe2",
   "metadata": {},
   "source": [
    "- **Coeficiente linear onde a reta corta o eixo `x` e `y`**"
   ]
  },
  {
   "cell_type": "code",
   "execution_count": 67,
   "id": "d4ba0678",
   "metadata": {},
   "outputs": [
    {
     "data": {
      "text/plain": [
       "np.float64(49.200323514387804)"
      ]
     },
     "execution_count": 67,
     "metadata": {},
     "output_type": "execute_result"
    }
   ],
   "source": [
    "reg_linear.intercept_ "
   ]
  },
  {
   "cell_type": "markdown",
   "id": "3178aaa9",
   "metadata": {},
   "source": [
    "> **Nota**\n",
    ">\n",
    "> O `reg_linear.intercept_ ` ou intercepto é o valor de y quando x = 0. Em outras palavras, ele indica onde a linha da regressão cruza o eixo y, intercept_ é um atributo do objeto após o modelo ser treinado, ele armazena o valor do intercepto, esse valor será um ponto indicado em um gráfico ligando o eixo `x` com o eixo `y` (correlação)."
   ]
  },
  {
   "cell_type": "markdown",
   "id": "508e81e1",
   "metadata": {},
   "source": [
    "- Usar o **`reg_linear.coef_`** e  **`reg_linear.intercept_`** para traçar uma nova reta e passar pelos pontos **`x`** e **`y`**"
   ]
  },
  {
   "cell_type": "code",
   "execution_count": 68,
   "id": "adbb70a0",
   "metadata": {},
   "outputs": [
    {
     "data": {
      "image/png": "[encoded data removed]",
      "text/plain": [
       "<Figure size 640x480 with 1 Axes>"
      ]
     },
     "metadata": {},
     "output_type": "display_data"
    }
   ],
   "source": [
    "plt.scatter(marketing['investimento_marketing'], marketing['m_estoque'])\n",
    "\n",
    "x = np.array(marketing['investimento_marketing'])\n",
    "\n",
    "y = reg_linear.intercept_ + x*reg_linear.coef_\n",
    "\n",
    "plt.title('Investimento em Marketing X Montante em Estoque')\n",
    "\n",
    "plt.xlabel(\"Valor do Investimento\")\n",
    "\n",
    "plt.ylabel(\"Montante em Estoque\")\n",
    "\n",
    "plt.grid(True)\n",
    "\n",
    "plt.plot(x, y, 'r')\n",
    "\n",
    "plt.show()"
   ]
  },
  {
   "cell_type": "markdown",
   "id": "157ee850",
   "metadata": {},
   "source": [
    "> **Nota**\n",
    ">\n",
    "> Nota-se que a reta quase que liga boa parte dos pontos, sendo assim, temos uma correlação positiva entre as variáveis, o que nos permite assumir esse modelo de regressão linear é válido na predição ou estimativa do montante em estoque após o investimento sugerido, ou seja, a relação entre valores gastos com marketing e o montante em estoque são boas."
   ]
  },
  {
   "cell_type": "markdown",
   "id": "b663555e",
   "metadata": {},
   "source": [
    "<hr>"
   ]
  },
  {
   "cell_type": "markdown",
   "id": "f9280c57",
   "metadata": {},
   "source": [
    "- **Predição para um investimento de 75.000**"
   ]
  },
  {
   "cell_type": "code",
   "execution_count": 69,
   "id": "913de306",
   "metadata": {},
   "outputs": [
    {
     "data": {
      "text/plain": [
       "array([342.18304104])"
      ]
     },
     "execution_count": 69,
     "metadata": {},
     "output_type": "execute_result"
    }
   ],
   "source": [
    "reg_linear.predict([[75]])"
   ]
  },
  {
   "cell_type": "markdown",
   "id": "85a54c47",
   "metadata": {},
   "source": [
    "- **Traçar um nova reta que passe exatamente em cima do ponto do valor predito **`reg_linear.predict`**"
   ]
  },
  {
   "cell_type": "code",
   "execution_count": 70,
   "id": "ed9da94a",
   "metadata": {},
   "outputs": [
    {
     "data": {
      "image/png": "[encoded data removed]",
      "text/plain": [
       "<Figure size 640x480 with 1 Axes>"
      ]
     },
     "metadata": {},
     "output_type": "display_data"
    }
   ],
   "source": [
    "plt.scatter(marketing['investimento_marketing'], marketing['m_estoque'])\n",
    "\n",
    "plt.scatter(75, reg_linear.predict([[75]])[0], color='black')\n",
    "\n",
    "x = np.array(marketing['investimento_marketing'])\n",
    "\n",
    "y = reg_linear.intercept_ + x*reg_linear.coef_\n",
    "\n",
    "plt.title('Investimento em Marketing X Montante em Estoque')\n",
    "\n",
    "plt.xlabel(\"Valor do Investimento\")\n",
    "\n",
    "plt.ylabel(\"Montante em Estoque\")\n",
    "\n",
    "plt.grid(True)\n",
    "\n",
    "plt.plot(x, y, 'r')\n",
    "\n",
    "plt.show()"
   ]
  },
  {
   "cell_type": "markdown",
   "id": "8b8e59ed",
   "metadata": {},
   "source": [
    "> **Nota**\n",
    ">\n",
    "> Após a aplicação do **`Machine Learning`** e **`Regressão Linear`** foi marcado um `ponto preto` no gráfico definindo os pontos **`x`** e **`y`**, predizendo assim o montante a ser alocado em estoque."
   ]
  },
  {
   "cell_type": "markdown",
   "id": "46d53653",
   "metadata": {},
   "source": [
    "<hr>"
   ]
  },
  {
   "cell_type": "markdown",
   "id": "2278614f",
   "metadata": {},
   "source": [
    "# **Resposta:**\n",
    ">\n",
    "> O valor aproximado a ser alocado ao estoque após um investimento de `75.000` em marketing será de aproximandamente:\n",
    "\n",
    "# **`342.000`**"
   ]
  },
  {
   "cell_type": "markdown",
   "id": "415564c9",
   "metadata": {},
   "source": [
    "<hr>"
   ]
  },
  {
   "cell_type": "markdown",
   "id": "fefebc46",
   "metadata": {},
   "source": [
    "\n",
    "<div style=\"text-align: justify; width: 80%; background-color:; border: 0px solid green; line-height: 1.8; font-size: 18px;\">\n",
    "\n",
    "# **Storytelling**\n",
    "\n",
    "Este foi apenas um breve e simples projeto de `Machine Learning`, no entanto, poderoso em grandes aplicações dentro das empresas quando existem grandes volumes de dados, porém difíceis de entender ou prever para as tomadas de decisão no mundo dos negócios ou em outras áreas.\n",
    "\n",
    "A `Regressão Linear` desempenha um papel muito importante quando o objetivo é identificar padrões e tendências, no qual, os dados apresentam comportamento de crescimento ou decaimento linear e assim ajudar a prever valores futuros dos dados e posteriormente tomar decisões inteligentes baseado em dados.\n",
    "\n",
    "Após alguns Ajustes dos dados do modelo de regressão linear com o método `.fit`, conseguimos localizar o coeficiente angular através da função ` reg_linear.coef_` (`3.90643623`). Esse coeficiente é uma medida que indica a inclinação da reta em relação ao eixo x do plano cartesiano.\n",
    "\n",
    "Posteriormente o `reg_linear.intercept_`(`49.200323514387804`) ou intercepto nos trouxe o valor de `y` quando `x` = 0. Em outras palavras, ele indica onde a linha da regressão cruza o eixo `y`, `intercept_` é um atributo do objeto após o modelo ser treinado, ele armazena o valor do intercepto, esse valor será um ponto indicado em um gráfico ligando o eixo `x` com o eixo `y` (correlação). \n",
    "\n",
    "Usamos os valores das duas funções `reg_linear.coef_` e `reg_linear.intercept_` para traçar uma reta entre os eixos x e y em um gráfico de dispersão(scatter) do pacote Matplotlib, a reta quase que liga boa parte dos pontos, sendo assim, temos uma correlação positiva entre as variáveis, o que nos permite assumir esse modelo de regressão linear é válido na predição ou estimativa do montante em estoque após o investimento sugerido, ou seja, a relação entre valores gastos com marketing e o montante em estoque são boas.\n",
    "\n",
    "Usamos a função `reg_linear.predict([[75]])` com o valor a ser investido para prever o montante que deverá ser alocado ao estoque.\n",
    "\n",
    "Por fim, criamos um novo gráfico de dispersão(scatter) traçando uma reta e marcando um ponto preto no gráfico através dos valores ou coordenadas encontrados nas funções `reg_linear.coef_` e `reg_linear.intercept_`.\n",
    "\n",
    "Novamente, nota-se que a reta quase que liga boa parte dos pontos, sendo assim, temos uma correlação positiva entre as variáveis, o que nos permite assumir que esse modelo de regressão linear de predição ou estimativa do montante em estoque é boa, ou seja, a relação entre valores gastos com marketing e o montante em estoque estão corretas.\n",
    "\n",
    "</div>\n",
    "\n",
    "\n",
    "\n",
    "\n",
    "\n",
    "\n"
   ]
  }
 ],
 "metadata": {
  "kernelspec": {
   "display_name": "Python 3",
   "language": "python",
   "name": "python3"
  },
  "language_info": {
   "codemirror_mode": {
    "name": "ipython",
    "version": 3
   },
   "file_extension": ".py",
   "mimetype": "text/x-python",
   "name": "python",
   "nbconvert_exporter": "python",
   "pygments_lexer": "ipython3",
   "version": "3.12.9"
  }
 },
 "nbformat": 4,
 "nbformat_minor": 5
}
